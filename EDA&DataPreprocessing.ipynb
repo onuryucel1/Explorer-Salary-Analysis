{
 "cells": [
  {
   "cell_type": "raw",
   "id": "f23c243d-9ec8-4c72-9565-079c5b13d334",
   "metadata": {},
   "source": [
    "veri linki:https://www.kaggle.com/datasets/cedricaubin/ai-ml-salaries"
   ]
  },
  {
   "cell_type": "markdown",
   "id": "782c9f26-b10d-49e3-a12b-4a0f26afdbbf",
   "metadata": {},
   "source": [
    "##### Çalışanlar için maaş üzerinde etkisi olabilecek özelliklerinin değerlendirilmesi yapılacaktır."
   ]
  },
  {
   "cell_type": "code",
   "execution_count": 1,
   "id": "97ae6e79-dbf9-48fc-99ce-ee16d60783b8",
   "metadata": {},
   "outputs": [],
   "source": [
    "import pandas as pd \n",
    "import numpy as np\n",
    "import matplotlib.pyplot as plt\n",
    "import matplotlib as matplot\n",
    "import seaborn as sns"
   ]
  },
  {
   "cell_type": "markdown",
   "id": "9765cab3-8eb9-4e2d-b41b-62a63b4a0839",
   "metadata": {},
   "source": [
    "# Veri Setinin Betimlenmesi"
   ]
  },
  {
   "cell_type": "code",
   "execution_count": 2,
   "id": "01085869-b8b0-468a-84a3-34d4ade1eb77",
   "metadata": {},
   "outputs": [],
   "source": [
    "df = pd.read_csv(\"salaries.csv\")"
   ]
  },
  {
   "cell_type": "code",
   "execution_count": 3,
   "id": "47bab4ab-351e-4e9c-9e76-6ebe48ce2927",
   "metadata": {},
   "outputs": [
    {
     "data": {
      "text/html": [
       "<div>\n",
       "<style scoped>\n",
       "    .dataframe tbody tr th:only-of-type {\n",
       "        vertical-align: middle;\n",
       "    }\n",
       "\n",
       "    .dataframe tbody tr th {\n",
       "        vertical-align: top;\n",
       "    }\n",
       "\n",
       "    .dataframe thead th {\n",
       "        text-align: right;\n",
       "    }\n",
       "</style>\n",
       "<table border=\"1\" class=\"dataframe\">\n",
       "  <thead>\n",
       "    <tr style=\"text-align: right;\">\n",
       "      <th></th>\n",
       "      <th>work_year</th>\n",
       "      <th>experience_level</th>\n",
       "      <th>employment_type</th>\n",
       "      <th>job_title</th>\n",
       "      <th>salary</th>\n",
       "      <th>salary_currency</th>\n",
       "      <th>salary_in_usd</th>\n",
       "      <th>employee_residence</th>\n",
       "      <th>remote_ratio</th>\n",
       "      <th>company_location</th>\n",
       "      <th>company_size</th>\n",
       "    </tr>\n",
       "  </thead>\n",
       "  <tbody>\n",
       "    <tr>\n",
       "      <th>0</th>\n",
       "      <td>2023</td>\n",
       "      <td>EN</td>\n",
       "      <td>FT</td>\n",
       "      <td>Data Scientist</td>\n",
       "      <td>100000</td>\n",
       "      <td>USD</td>\n",
       "      <td>100000</td>\n",
       "      <td>US</td>\n",
       "      <td>100</td>\n",
       "      <td>US</td>\n",
       "      <td>M</td>\n",
       "    </tr>\n",
       "    <tr>\n",
       "      <th>1</th>\n",
       "      <td>2023</td>\n",
       "      <td>MI</td>\n",
       "      <td>FT</td>\n",
       "      <td>Machine Learning Engineer</td>\n",
       "      <td>45000</td>\n",
       "      <td>EUR</td>\n",
       "      <td>48585</td>\n",
       "      <td>IT</td>\n",
       "      <td>100</td>\n",
       "      <td>GB</td>\n",
       "      <td>M</td>\n",
       "    </tr>\n",
       "    <tr>\n",
       "      <th>2</th>\n",
       "      <td>2023</td>\n",
       "      <td>MI</td>\n",
       "      <td>FT</td>\n",
       "      <td>Data Analyst</td>\n",
       "      <td>142000</td>\n",
       "      <td>USD</td>\n",
       "      <td>142000</td>\n",
       "      <td>US</td>\n",
       "      <td>0</td>\n",
       "      <td>US</td>\n",
       "      <td>M</td>\n",
       "    </tr>\n",
       "    <tr>\n",
       "      <th>3</th>\n",
       "      <td>2023</td>\n",
       "      <td>MI</td>\n",
       "      <td>FT</td>\n",
       "      <td>Data Analyst</td>\n",
       "      <td>128000</td>\n",
       "      <td>USD</td>\n",
       "      <td>128000</td>\n",
       "      <td>US</td>\n",
       "      <td>0</td>\n",
       "      <td>US</td>\n",
       "      <td>M</td>\n",
       "    </tr>\n",
       "    <tr>\n",
       "      <th>4</th>\n",
       "      <td>2023</td>\n",
       "      <td>SE</td>\n",
       "      <td>FT</td>\n",
       "      <td>ETL Developer</td>\n",
       "      <td>99500</td>\n",
       "      <td>USD</td>\n",
       "      <td>99500</td>\n",
       "      <td>US</td>\n",
       "      <td>0</td>\n",
       "      <td>US</td>\n",
       "      <td>M</td>\n",
       "    </tr>\n",
       "  </tbody>\n",
       "</table>\n",
       "</div>"
      ],
      "text/plain": [
       "   work_year experience_level employment_type                  job_title  \\\n",
       "0       2023               EN              FT             Data Scientist   \n",
       "1       2023               MI              FT  Machine Learning Engineer   \n",
       "2       2023               MI              FT               Data Analyst   \n",
       "3       2023               MI              FT               Data Analyst   \n",
       "4       2023               SE              FT              ETL Developer   \n",
       "\n",
       "   salary salary_currency  salary_in_usd employee_residence  remote_ratio  \\\n",
       "0  100000             USD         100000                 US           100   \n",
       "1   45000             EUR          48585                 IT           100   \n",
       "2  142000             USD         142000                 US             0   \n",
       "3  128000             USD         128000                 US             0   \n",
       "4   99500             USD          99500                 US             0   \n",
       "\n",
       "  company_location company_size  \n",
       "0               US            M  \n",
       "1               GB            M  \n",
       "2               US            M  \n",
       "3               US            M  \n",
       "4               US            M  "
      ]
     },
     "execution_count": 3,
     "metadata": {},
     "output_type": "execute_result"
    }
   ],
   "source": [
    "df.head()"
   ]
  },
  {
   "cell_type": "code",
   "execution_count": 4,
   "id": "b3dbfb41-f35d-4e95-9277-3bca96cf7db9",
   "metadata": {},
   "outputs": [
    {
     "data": {
      "text/html": [
       "<div>\n",
       "<style scoped>\n",
       "    .dataframe tbody tr th:only-of-type {\n",
       "        vertical-align: middle;\n",
       "    }\n",
       "\n",
       "    .dataframe tbody tr th {\n",
       "        vertical-align: top;\n",
       "    }\n",
       "\n",
       "    .dataframe thead th {\n",
       "        text-align: right;\n",
       "    }\n",
       "</style>\n",
       "<table border=\"1\" class=\"dataframe\">\n",
       "  <thead>\n",
       "    <tr style=\"text-align: right;\">\n",
       "      <th></th>\n",
       "      <th>work_year</th>\n",
       "      <th>experience_level</th>\n",
       "      <th>employment_type</th>\n",
       "      <th>job_title</th>\n",
       "      <th>salary</th>\n",
       "      <th>salary_currency</th>\n",
       "      <th>salary_in_usd</th>\n",
       "      <th>employee_residence</th>\n",
       "      <th>remote_ratio</th>\n",
       "      <th>company_location</th>\n",
       "      <th>company_size</th>\n",
       "    </tr>\n",
       "  </thead>\n",
       "  <tbody>\n",
       "    <tr>\n",
       "      <th>0</th>\n",
       "      <td>2023</td>\n",
       "      <td>EN</td>\n",
       "      <td>FT</td>\n",
       "      <td>Data Scientist</td>\n",
       "      <td>100000</td>\n",
       "      <td>USD</td>\n",
       "      <td>100000</td>\n",
       "      <td>US</td>\n",
       "      <td>100</td>\n",
       "      <td>US</td>\n",
       "      <td>M</td>\n",
       "    </tr>\n",
       "    <tr>\n",
       "      <th>1</th>\n",
       "      <td>2023</td>\n",
       "      <td>MI</td>\n",
       "      <td>FT</td>\n",
       "      <td>Machine Learning Engineer</td>\n",
       "      <td>45000</td>\n",
       "      <td>EUR</td>\n",
       "      <td>48585</td>\n",
       "      <td>IT</td>\n",
       "      <td>100</td>\n",
       "      <td>GB</td>\n",
       "      <td>M</td>\n",
       "    </tr>\n",
       "    <tr>\n",
       "      <th>2</th>\n",
       "      <td>2023</td>\n",
       "      <td>MI</td>\n",
       "      <td>FT</td>\n",
       "      <td>Data Analyst</td>\n",
       "      <td>142000</td>\n",
       "      <td>USD</td>\n",
       "      <td>142000</td>\n",
       "      <td>US</td>\n",
       "      <td>0</td>\n",
       "      <td>US</td>\n",
       "      <td>M</td>\n",
       "    </tr>\n",
       "    <tr>\n",
       "      <th>3</th>\n",
       "      <td>2023</td>\n",
       "      <td>MI</td>\n",
       "      <td>FT</td>\n",
       "      <td>Data Analyst</td>\n",
       "      <td>128000</td>\n",
       "      <td>USD</td>\n",
       "      <td>128000</td>\n",
       "      <td>US</td>\n",
       "      <td>0</td>\n",
       "      <td>US</td>\n",
       "      <td>M</td>\n",
       "    </tr>\n",
       "    <tr>\n",
       "      <th>4</th>\n",
       "      <td>2023</td>\n",
       "      <td>SE</td>\n",
       "      <td>FT</td>\n",
       "      <td>ETL Developer</td>\n",
       "      <td>99500</td>\n",
       "      <td>USD</td>\n",
       "      <td>99500</td>\n",
       "      <td>US</td>\n",
       "      <td>0</td>\n",
       "      <td>US</td>\n",
       "      <td>M</td>\n",
       "    </tr>\n",
       "  </tbody>\n",
       "</table>\n",
       "</div>"
      ],
      "text/plain": [
       "   work_year experience_level employment_type                  job_title  \\\n",
       "0       2023               EN              FT             Data Scientist   \n",
       "1       2023               MI              FT  Machine Learning Engineer   \n",
       "2       2023               MI              FT               Data Analyst   \n",
       "3       2023               MI              FT               Data Analyst   \n",
       "4       2023               SE              FT              ETL Developer   \n",
       "\n",
       "   salary salary_currency  salary_in_usd employee_residence  remote_ratio  \\\n",
       "0  100000             USD         100000                 US           100   \n",
       "1   45000             EUR          48585                 IT           100   \n",
       "2  142000             USD         142000                 US             0   \n",
       "3  128000             USD         128000                 US             0   \n",
       "4   99500             USD          99500                 US             0   \n",
       "\n",
       "  company_location company_size  \n",
       "0               US            M  \n",
       "1               GB            M  \n",
       "2               US            M  \n",
       "3               US            M  \n",
       "4               US            M  "
      ]
     },
     "execution_count": 4,
     "metadata": {},
     "output_type": "execute_result"
    }
   ],
   "source": [
    "df.head()"
   ]
  },
  {
   "cell_type": "markdown",
   "id": "9fa5af02-06a4-46be-9e5d-131e3a9516b1",
   "metadata": {},
   "source": [
    "##### work_year = Maaşın ödendiği yıl\n",
    "##### experience_level = Yıl boyunca işteki deneyim düzeyincerü\n"
   ]
  },
  {
   "cell_type": "code",
   "execution_count": 1,
   "id": "90e93a69-8196-4508-b681-19010fa9dca7",
   "metadata": {},
   "outputs": [],
   "source": [
    "###### EN:Giriş Seviye\n",
    "###### MI:Orta Seviye\n",
    "###### SE:Kıdemli Seviye \n",
    "###### EX:Yönetici Seviye"
   ]
  },
  {
   "cell_type": "markdown",
   "id": "7e846dba-3e06-4f6c-86f9-88423ac73a2a",
   "metadata": {},
   "source": [
    "##### empeoyment_type = İstİhdam türü\n",
    "##### PT:Yarı Zamanlı\n",
    "##### FT:Tam Zamanlı\n",
    "##### CT:Sözleşmeli\n",
    "##### FL:Serbest Çlaışan"
   ]
  },
  {
   "cell_type": "markdown",
   "id": "ba28d950-195b-41cb-ac15-d1a81f95f493",
   "metadata": {},
   "source": [
    "##### job_title = Yıl boyunca çalışılan rol\n",
    "##### salary = Ödenen toplam brüt maaş tutarı.\n",
    "##### salary_currency = ISO 4217 para birimi kodu olarak ödenen maaşın para birimi\n",
    "##### salary_in_usd = USD cinsinden maaş (döviz kuru, fxdata.foorilla.com üzerinden ilgili yıl için ortalama USD kuruna bölünür).\n",
    "##### employee_residence =  ISO 3166 ülke kodu olarak çalışanın çalışma yılı boyunca ikamet ettiği birincil ülke.\n",
    "##### remote_ratio = Uzaktan yapılan toplam iş miktarı, olası değerler aşağıdaki gibidir:\n",
    "##### 0: Uzaktan çalışma yok (%20'den az)\n",
    "##### 50: Kısmen uzak\n",
    "##### 100: Tamamen uzaktan (%80'den fazla)\n",
    "##### company_location =  ISO 3166 ülke kodu olarak işverenin ana ofisinin veya sözleşme şubesinin ülkesi.\n",
    "##### company_size =  Yıl boyunca şirket için çalışan ortalama kişi sayısı:\n",
    "##### S: 50'den az çalışan (küçük)\n",
    "##### M: 50 ila 250 çalışan (orta)\n",
    "##### L: 250'den fazla çalışan (büyük)"
   ]
  },
  {
   "cell_type": "code",
   "execution_count": 6,
   "id": "d8195e52-98f8-44aa-bd5a-d487499bd0a2",
   "metadata": {},
   "outputs": [
    {
     "name": "stdout",
     "output_type": "stream",
     "text": [
      "<class 'pandas.core.frame.DataFrame'>\n",
      "RangeIndex: 7366 entries, 0 to 7365\n",
      "Data columns (total 11 columns):\n",
      " #   Column              Non-Null Count  Dtype \n",
      "---  ------              --------------  ----- \n",
      " 0   work_year           7366 non-null   int64 \n",
      " 1   experience_level    7366 non-null   object\n",
      " 2   employment_type     7366 non-null   object\n",
      " 3   job_title           7366 non-null   object\n",
      " 4   salary              7366 non-null   int64 \n",
      " 5   salary_currency     7366 non-null   object\n",
      " 6   salary_in_usd       7366 non-null   int64 \n",
      " 7   employee_residence  7366 non-null   object\n",
      " 8   remote_ratio        7366 non-null   int64 \n",
      " 9   company_location    7366 non-null   object\n",
      " 10  company_size        7366 non-null   object\n",
      "dtypes: int64(4), object(7)\n",
      "memory usage: 633.1+ KB\n"
     ]
    }
   ],
   "source": [
    "df.info()"
   ]
  },
  {
   "cell_type": "code",
   "execution_count": 7,
   "id": "20f69224-bb56-4eab-9f0e-0b0123bb1cdf",
   "metadata": {},
   "outputs": [
    {
     "data": {
      "text/plain": [
       "(7366, 11)"
      ]
     },
     "execution_count": 7,
     "metadata": {},
     "output_type": "execute_result"
    }
   ],
   "source": [
    "df.shape"
   ]
  },
  {
   "cell_type": "code",
   "execution_count": 8,
   "id": "14bb472a-3ab2-494e-a11c-0fdbd0261a30",
   "metadata": {},
   "outputs": [],
   "source": [
    "#7366 satır 11 sütun"
   ]
  },
  {
   "cell_type": "code",
   "execution_count": 9,
   "id": "e8416f87-16ac-401a-8ec6-ee46dc69a843",
   "metadata": {
    "jp-MarkdownHeadingCollapsed": true
   },
   "outputs": [
    {
     "data": {
      "text/html": [
       "<div>\n",
       "<style scoped>\n",
       "    .dataframe tbody tr th:only-of-type {\n",
       "        vertical-align: middle;\n",
       "    }\n",
       "\n",
       "    .dataframe tbody tr th {\n",
       "        vertical-align: top;\n",
       "    }\n",
       "\n",
       "    .dataframe thead th {\n",
       "        text-align: right;\n",
       "    }\n",
       "</style>\n",
       "<table border=\"1\" class=\"dataframe\">\n",
       "  <thead>\n",
       "    <tr style=\"text-align: right;\">\n",
       "      <th></th>\n",
       "      <th>count</th>\n",
       "      <th>mean</th>\n",
       "      <th>std</th>\n",
       "      <th>min</th>\n",
       "      <th>25%</th>\n",
       "      <th>50%</th>\n",
       "      <th>75%</th>\n",
       "      <th>max</th>\n",
       "    </tr>\n",
       "  </thead>\n",
       "  <tbody>\n",
       "    <tr>\n",
       "      <th>work_year</th>\n",
       "      <td>7366.0</td>\n",
       "      <td>2022.686261</td>\n",
       "      <td>0.579340</td>\n",
       "      <td>2020.0</td>\n",
       "      <td>2022.0</td>\n",
       "      <td>2023.0</td>\n",
       "      <td>2023.0</td>\n",
       "      <td>2023.0</td>\n",
       "    </tr>\n",
       "    <tr>\n",
       "      <th>salary</th>\n",
       "      <td>7366.0</td>\n",
       "      <td>178211.048737</td>\n",
       "      <td>494583.394595</td>\n",
       "      <td>14000.0</td>\n",
       "      <td>105200.0</td>\n",
       "      <td>144000.0</td>\n",
       "      <td>189327.5</td>\n",
       "      <td>30400000.0</td>\n",
       "    </tr>\n",
       "    <tr>\n",
       "      <th>salary_in_usd</th>\n",
       "      <td>7366.0</td>\n",
       "      <td>148570.102498</td>\n",
       "      <td>63913.438628</td>\n",
       "      <td>15000.0</td>\n",
       "      <td>105000.0</td>\n",
       "      <td>142200.0</td>\n",
       "      <td>185900.0</td>\n",
       "      <td>450000.0</td>\n",
       "    </tr>\n",
       "    <tr>\n",
       "      <th>remote_ratio</th>\n",
       "      <td>7366.0</td>\n",
       "      <td>40.673364</td>\n",
       "      <td>48.380788</td>\n",
       "      <td>0.0</td>\n",
       "      <td>0.0</td>\n",
       "      <td>0.0</td>\n",
       "      <td>100.0</td>\n",
       "      <td>100.0</td>\n",
       "    </tr>\n",
       "  </tbody>\n",
       "</table>\n",
       "</div>"
      ],
      "text/plain": [
       "                count           mean            std      min       25%  \\\n",
       "work_year      7366.0    2022.686261       0.579340   2020.0    2022.0   \n",
       "salary         7366.0  178211.048737  494583.394595  14000.0  105200.0   \n",
       "salary_in_usd  7366.0  148570.102498   63913.438628  15000.0  105000.0   \n",
       "remote_ratio   7366.0      40.673364      48.380788      0.0       0.0   \n",
       "\n",
       "                    50%       75%         max  \n",
       "work_year        2023.0    2023.0      2023.0  \n",
       "salary         144000.0  189327.5  30400000.0  \n",
       "salary_in_usd  142200.0  185900.0    450000.0  \n",
       "remote_ratio        0.0     100.0       100.0  "
      ]
     },
     "execution_count": 9,
     "metadata": {},
     "output_type": "execute_result"
    }
   ],
   "source": [
    "df.describe().T"
   ]
  },
  {
   "cell_type": "code",
   "execution_count": 10,
   "id": "747f1282-08cb-4147-ab65-eb6e8c58b1fd",
   "metadata": {},
   "outputs": [],
   "source": [
    "#salary değişkeninde bir eksiklik varsa medyan ile doldurmak daha doğru olacaktır."
   ]
  },
  {
   "cell_type": "code",
   "execution_count": 11,
   "id": "2206c012-034d-4373-a88b-554b1d69283d",
   "metadata": {},
   "outputs": [
    {
     "name": "stdout",
     "output_type": "stream",
     "text": [
      "<class 'pandas.core.frame.DataFrame'>\n",
      "RangeIndex: 7366 entries, 0 to 7365\n",
      "Data columns (total 11 columns):\n",
      " #   Column              Non-Null Count  Dtype \n",
      "---  ------              --------------  ----- \n",
      " 0   work_year           7366 non-null   int64 \n",
      " 1   experience_level    7366 non-null   object\n",
      " 2   employment_type     7366 non-null   object\n",
      " 3   job_title           7366 non-null   object\n",
      " 4   salary              7366 non-null   int64 \n",
      " 5   salary_currency     7366 non-null   object\n",
      " 6   salary_in_usd       7366 non-null   int64 \n",
      " 7   employee_residence  7366 non-null   object\n",
      " 8   remote_ratio        7366 non-null   int64 \n",
      " 9   company_location    7366 non-null   object\n",
      " 10  company_size        7366 non-null   object\n",
      "dtypes: int64(4), object(7)\n",
      "memory usage: 633.1+ KB\n"
     ]
    }
   ],
   "source": [
    "df.info()"
   ]
  },
  {
   "cell_type": "markdown",
   "id": "201310df-fc90-4b67-a76d-56cd7d2e7834",
   "metadata": {},
   "source": [
    "## Kategorik Değişkenlerin İncelenmesi ve Eksik Değer Varsa Doldurulması"
   ]
  },
  {
   "cell_type": "code",
   "execution_count": 12,
   "id": "01e114ee-35c7-4b99-9351-820c566469ad",
   "metadata": {},
   "outputs": [
    {
     "data": {
      "text/plain": [
       "SE    5290\n",
       "MI    1439\n",
       "EN     410\n",
       "EX     227\n",
       "Name: experience_level, dtype: int64"
      ]
     },
     "execution_count": 12,
     "metadata": {},
     "output_type": "execute_result"
    }
   ],
   "source": [
    "df[\"experience_level\"].value_counts() #sınıfların frekansı"
   ]
  },
  {
   "cell_type": "code",
   "execution_count": 13,
   "id": "7ae45125-37d2-4a50-a1cb-2714d38455e5",
   "metadata": {},
   "outputs": [
    {
     "data": {
      "text/plain": [
       "FT    7324\n",
       "CT      18\n",
       "PT      13\n",
       "FL      11\n",
       "Name: employment_type, dtype: int64"
      ]
     },
     "execution_count": 13,
     "metadata": {},
     "output_type": "execute_result"
    }
   ],
   "source": [
    "df[\"employment_type\"].value_counts() #sınıfların frekansı "
   ]
  },
  {
   "cell_type": "code",
   "execution_count": 14,
   "id": "afc477b9-83c7-4780-a211-83ddb0a27a4d",
   "metadata": {},
   "outputs": [
    {
     "data": {
      "text/plain": [
       "7366"
      ]
     },
     "execution_count": 14,
     "metadata": {},
     "output_type": "execute_result"
    }
   ],
   "source": [
    "df[\"job_title\"].value_counts().sum() # toplam sınıf sayısı"
   ]
  },
  {
   "cell_type": "code",
   "execution_count": 15,
   "id": "dd931a7a-eddb-466d-b14c-32bb633f2daa",
   "metadata": {},
   "outputs": [
    {
     "data": {
      "text/plain": [
       "Data Engineer                           1762\n",
       "Data Scientist                          1548\n",
       "Data Analyst                            1112\n",
       "Machine Learning Engineer                743\n",
       "Applied Scientist                        208\n",
       "                                        ... \n",
       "BI Data Engineer                           1\n",
       "Managing Director Data Science             1\n",
       "Data DevOps Engineer                       1\n",
       "Sales Data Analyst                         1\n",
       "Machine Learning Operations Engineer       1\n",
       "Name: job_title, Length: 118, dtype: int64"
      ]
     },
     "execution_count": 15,
     "metadata": {},
     "output_type": "execute_result"
    }
   ],
   "source": [
    "df[\"job_title\"].value_counts() # sınıf frekansı"
   ]
  },
  {
   "cell_type": "code",
   "execution_count": 16,
   "id": "0bff0488-5d1e-46e0-a487-98b9c8196a95",
   "metadata": {},
   "outputs": [
    {
     "data": {
      "text/plain": [
       "USD    6640\n",
       "EUR     308\n",
       "GBP     278\n",
       "INR      50\n",
       "CAD      35\n",
       "AUD      10\n",
       "PLN       7\n",
       "SGD       6\n",
       "CHF       5\n",
       "BRL       4\n",
       "JPY       4\n",
       "DKK       3\n",
       "TRY       3\n",
       "HUF       3\n",
       "THB       2\n",
       "NOK       2\n",
       "ILS       1\n",
       "HKD       1\n",
       "ZAR       1\n",
       "PHP       1\n",
       "MXN       1\n",
       "CLP       1\n",
       "Name: salary_currency, dtype: int64"
      ]
     },
     "execution_count": 16,
     "metadata": {},
     "output_type": "execute_result"
    }
   ],
   "source": [
    "df[\"salary_currency\"].value_counts() # sınıf frekansı"
   ]
  },
  {
   "cell_type": "code",
   "execution_count": 17,
   "id": "89a49661-87ac-4515-801b-105ba089824a",
   "metadata": {},
   "outputs": [
    {
     "data": {
      "text/plain": [
       "US    6205\n",
       "GB     370\n",
       "CA     173\n",
       "ES     107\n",
       "DE      65\n",
       "      ... \n",
       "EC       1\n",
       "AD       1\n",
       "QA       1\n",
       "MU       1\n",
       "MT       1\n",
       "Name: employee_residence, Length: 85, dtype: int64"
      ]
     },
     "execution_count": 17,
     "metadata": {},
     "output_type": "execute_result"
    }
   ],
   "source": [
    "df[\"employee_residence\"].value_counts() # sınıf frekansı"
   ]
  },
  {
   "cell_type": "code",
   "execution_count": 18,
   "id": "6cb92b93-a31a-401c-97d5-246bb0ca0685",
   "metadata": {},
   "outputs": [
    {
     "data": {
      "text/plain": [
       "7366"
      ]
     },
     "execution_count": 18,
     "metadata": {},
     "output_type": "execute_result"
    }
   ],
   "source": [
    "df[\"employee_residence\"].value_counts().sum() # toplam sınıf sayısı"
   ]
  },
  {
   "cell_type": "code",
   "execution_count": 19,
   "id": "2647f00d-eeaf-4212-acf0-e214c57e9fe4",
   "metadata": {},
   "outputs": [
    {
     "data": {
      "text/plain": [
       "US    6252\n",
       "GB     377\n",
       "CA     174\n",
       "ES     104\n",
       "DE      72\n",
       "      ... \n",
       "EC       1\n",
       "AD       1\n",
       "QA       1\n",
       "MU       1\n",
       "MT       1\n",
       "Name: company_location, Length: 73, dtype: int64"
      ]
     },
     "execution_count": 19,
     "metadata": {},
     "output_type": "execute_result"
    }
   ],
   "source": [
    "df[\"company_location\"].value_counts() # sınıf frekansı"
   ]
  },
  {
   "cell_type": "code",
   "execution_count": 20,
   "id": "190493a5-91f2-47de-8fab-0aaf76d218f0",
   "metadata": {},
   "outputs": [
    {
     "data": {
      "text/plain": [
       "7366"
      ]
     },
     "execution_count": 20,
     "metadata": {},
     "output_type": "execute_result"
    }
   ],
   "source": [
    "df[\"company_location\"].value_counts().sum() # toplam sınıf sayısı"
   ]
  },
  {
   "cell_type": "code",
   "execution_count": 21,
   "id": "5e2011c7-6470-44c6-9934-35c95c5ef4cb",
   "metadata": {},
   "outputs": [
    {
     "data": {
      "text/plain": [
       "M    6537\n",
       "L     664\n",
       "S     165\n",
       "Name: company_size, dtype: int64"
      ]
     },
     "execution_count": 21,
     "metadata": {},
     "output_type": "execute_result"
    }
   ],
   "source": [
    "df[\"company_size\"].value_counts() # sınıf frekansı;"
   ]
  },
  {
   "cell_type": "markdown",
   "id": "5eee2977-3f4a-4844-a650-1c84fc5b46f9",
   "metadata": {},
   "source": [
    "#### Boş Verilerin Değerlendirilmesi "
   ]
  },
  {
   "cell_type": "code",
   "execution_count": 22,
   "id": "f5b84733-c30e-47f7-906b-1bdf65a638cc",
   "metadata": {},
   "outputs": [
    {
     "data": {
      "text/plain": [
       "work_year             0\n",
       "experience_level      0\n",
       "employment_type       0\n",
       "job_title             0\n",
       "salary                0\n",
       "salary_currency       0\n",
       "salary_in_usd         0\n",
       "employee_residence    0\n",
       "remote_ratio          0\n",
       "company_location      0\n",
       "company_size          0\n",
       "dtype: int64"
      ]
     },
     "execution_count": 22,
     "metadata": {},
     "output_type": "execute_result"
    }
   ],
   "source": [
    "df.isnull().sum()"
   ]
  },
  {
   "cell_type": "code",
   "execution_count": 23,
   "id": "a4d123a6-8422-4dd3-9dfa-1bdb81e50022",
   "metadata": {},
   "outputs": [],
   "source": [
    "# herhangi bir boş verinin olmadığı gözüküyor"
   ]
  },
  {
   "cell_type": "code",
   "execution_count": 24,
   "id": "fd29d4db-9c80-4ee7-a16f-58077eb59cb5",
   "metadata": {},
   "outputs": [],
   "source": [
    "#Veri Seti Çeşitli Şekillerde Görselleştirildikten ve İncelendikten Sonra tüm kategorik değişkenler sayısallaştırılacaktır. "
   ]
  },
  {
   "cell_type": "markdown",
   "id": "52d087f0-ee25-424b-9ad4-a47f5be6bc61",
   "metadata": {},
   "source": [
    "# Veri Görselleştirme "
   ]
  },
  {
   "cell_type": "code",
   "execution_count": 25,
   "id": "f9f48a1d-ade8-4a20-ba1a-9af468ad0ce6",
   "metadata": {},
   "outputs": [
    {
     "data": {
      "text/html": [
       "<div>\n",
       "<style scoped>\n",
       "    .dataframe tbody tr th:only-of-type {\n",
       "        vertical-align: middle;\n",
       "    }\n",
       "\n",
       "    .dataframe tbody tr th {\n",
       "        vertical-align: top;\n",
       "    }\n",
       "\n",
       "    .dataframe thead th {\n",
       "        text-align: right;\n",
       "    }\n",
       "</style>\n",
       "<table border=\"1\" class=\"dataframe\">\n",
       "  <thead>\n",
       "    <tr style=\"text-align: right;\">\n",
       "      <th></th>\n",
       "      <th>work_year</th>\n",
       "      <th>experience_level</th>\n",
       "      <th>employment_type</th>\n",
       "      <th>job_title</th>\n",
       "      <th>salary</th>\n",
       "      <th>salary_currency</th>\n",
       "      <th>salary_in_usd</th>\n",
       "      <th>employee_residence</th>\n",
       "      <th>remote_ratio</th>\n",
       "      <th>company_location</th>\n",
       "      <th>company_size</th>\n",
       "    </tr>\n",
       "  </thead>\n",
       "  <tbody>\n",
       "    <tr>\n",
       "      <th>0</th>\n",
       "      <td>2023</td>\n",
       "      <td>EN</td>\n",
       "      <td>FT</td>\n",
       "      <td>Data Scientist</td>\n",
       "      <td>100000</td>\n",
       "      <td>USD</td>\n",
       "      <td>100000</td>\n",
       "      <td>US</td>\n",
       "      <td>100</td>\n",
       "      <td>US</td>\n",
       "      <td>M</td>\n",
       "    </tr>\n",
       "    <tr>\n",
       "      <th>1</th>\n",
       "      <td>2023</td>\n",
       "      <td>MI</td>\n",
       "      <td>FT</td>\n",
       "      <td>Machine Learning Engineer</td>\n",
       "      <td>45000</td>\n",
       "      <td>EUR</td>\n",
       "      <td>48585</td>\n",
       "      <td>IT</td>\n",
       "      <td>100</td>\n",
       "      <td>GB</td>\n",
       "      <td>M</td>\n",
       "    </tr>\n",
       "    <tr>\n",
       "      <th>2</th>\n",
       "      <td>2023</td>\n",
       "      <td>MI</td>\n",
       "      <td>FT</td>\n",
       "      <td>Data Analyst</td>\n",
       "      <td>142000</td>\n",
       "      <td>USD</td>\n",
       "      <td>142000</td>\n",
       "      <td>US</td>\n",
       "      <td>0</td>\n",
       "      <td>US</td>\n",
       "      <td>M</td>\n",
       "    </tr>\n",
       "    <tr>\n",
       "      <th>3</th>\n",
       "      <td>2023</td>\n",
       "      <td>MI</td>\n",
       "      <td>FT</td>\n",
       "      <td>Data Analyst</td>\n",
       "      <td>128000</td>\n",
       "      <td>USD</td>\n",
       "      <td>128000</td>\n",
       "      <td>US</td>\n",
       "      <td>0</td>\n",
       "      <td>US</td>\n",
       "      <td>M</td>\n",
       "    </tr>\n",
       "    <tr>\n",
       "      <th>4</th>\n",
       "      <td>2023</td>\n",
       "      <td>SE</td>\n",
       "      <td>FT</td>\n",
       "      <td>ETL Developer</td>\n",
       "      <td>99500</td>\n",
       "      <td>USD</td>\n",
       "      <td>99500</td>\n",
       "      <td>US</td>\n",
       "      <td>0</td>\n",
       "      <td>US</td>\n",
       "      <td>M</td>\n",
       "    </tr>\n",
       "  </tbody>\n",
       "</table>\n",
       "</div>"
      ],
      "text/plain": [
       "   work_year experience_level employment_type                  job_title  \\\n",
       "0       2023               EN              FT             Data Scientist   \n",
       "1       2023               MI              FT  Machine Learning Engineer   \n",
       "2       2023               MI              FT               Data Analyst   \n",
       "3       2023               MI              FT               Data Analyst   \n",
       "4       2023               SE              FT              ETL Developer   \n",
       "\n",
       "   salary salary_currency  salary_in_usd employee_residence  remote_ratio  \\\n",
       "0  100000             USD         100000                 US           100   \n",
       "1   45000             EUR          48585                 IT           100   \n",
       "2  142000             USD         142000                 US             0   \n",
       "3  128000             USD         128000                 US             0   \n",
       "4   99500             USD          99500                 US             0   \n",
       "\n",
       "  company_location company_size  \n",
       "0               US            M  \n",
       "1               GB            M  \n",
       "2               US            M  \n",
       "3               US            M  \n",
       "4               US            M  "
      ]
     },
     "execution_count": 25,
     "metadata": {},
     "output_type": "execute_result"
    }
   ],
   "source": [
    "df.head()"
   ]
  },
  {
   "cell_type": "code",
   "execution_count": 26,
   "id": "c87f0a3f-ef4d-479d-b91f-5726dac833c8",
   "metadata": {},
   "outputs": [
    {
     "data": {
      "image/png": "[encoded data removed]",
      "text/plain": [
       "<Figure size 640x480 with 1 Axes>"
      ]
     },
     "metadata": {},
     "output_type": "display_data"
    }
   ],
   "source": [
    "sns.barplot(x = \"employment_type\", y = \"salary_in_usd\",data = df);"
   ]
  },
  {
   "cell_type": "code",
   "execution_count": 27,
   "id": "a446f301-94f9-48d4-bc8d-acbb410c130b",
   "metadata": {},
   "outputs": [],
   "source": [
    "#ortalama alınan maaşları çalışma tipine göre karşılaştıracak olursak en yükse maaşı FL(Serbest Çalışan) çalışanlarının aldığını görüyoruz."
   ]
  },
  {
   "cell_type": "code",
   "execution_count": 28,
   "id": "2fb45dc4-bdd1-4e33-965b-83a3395746f2",
   "metadata": {},
   "outputs": [],
   "source": [
    "#maaşlarda en fazla değişkene sözleşnme usulü çalışanlar olduğu görülüyor."
   ]
  },
  {
   "cell_type": "code",
   "execution_count": 29,
   "id": "ba12a222-b107-4178-a40e-0577881bfd7d",
   "metadata": {},
   "outputs": [
    {
     "data": {
      "image/png": "[encoded data removed]",
      "text/plain": [
       "<Figure size 640x480 with 1 Axes>"
      ]
     },
     "metadata": {},
     "output_type": "display_data"
    }
   ],
   "source": [
    "sns.barplot(x = \"experience_level\", y = \"salary_in_usd\",data = df);"
   ]
  },
  {
   "cell_type": "code",
   "execution_count": 30,
   "id": "cb7b0ab2-bff6-4f7c-9c6b-89f7ef9a6dd2",
   "metadata": {},
   "outputs": [],
   "source": [
    "#maaş ortalamaları USD bazında bekledniği gibi "
   ]
  },
  {
   "cell_type": "code",
   "execution_count": 31,
   "id": "aacc1fe7-3cf9-4344-bcf6-d436d27e26ff",
   "metadata": {},
   "outputs": [],
   "source": [
    "# muhtemelen en normal dağılan da SE başlığına sahip olanlar "
   ]
  },
  {
   "cell_type": "code",
   "execution_count": 32,
   "id": "9b020d3b-3888-4eb0-af91-3a05fe3e463b",
   "metadata": {},
   "outputs": [
    {
     "data": {
      "image/png": "[encoded data removed]",
      "text/plain": [
       "<Figure size 640x480 with 1 Axes>"
      ]
     },
     "metadata": {},
     "output_type": "display_data"
    }
   ],
   "source": [
    "sns.kdeplot(x = df.salary_in_usd, hue = \"experience_level\",data = df);"
   ]
  },
  {
   "cell_type": "code",
   "execution_count": 33,
   "id": "364338fc-202a-419c-af73-0ceae2cec5ee",
   "metadata": {},
   "outputs": [],
   "source": [
    "#buradan da analşılacağı üzere en normal dağılım SE"
   ]
  },
  {
   "cell_type": "code",
   "execution_count": 34,
   "id": "72a05ca2-dc5f-405d-92cc-8efd214e65fe",
   "metadata": {},
   "outputs": [],
   "source": [
    "#aynı zamanda da veri setinde en fazla bulunan SE"
   ]
  },
  {
   "cell_type": "code",
   "execution_count": 35,
   "id": "589a30ca-4868-4f52-9446-aa57ba1a180c",
   "metadata": {},
   "outputs": [
    {
     "data": {
      "image/png": "[encoded data removed]",
      "text/plain": [
       "<Figure size 640x480 with 1 Axes>"
      ]
     },
     "metadata": {},
     "output_type": "display_data"
    }
   ],
   "source": [
    "sns.lineplot(y = \"salary_in_usd\",x =\"work_year\", data = df);"
   ]
  },
  {
   "cell_type": "code",
   "execution_count": 36,
   "id": "4fc8a0bb-6980-4435-bf24-2fd90cdfc4d6",
   "metadata": {},
   "outputs": [],
   "source": [
    "#2019 Panedemi sonrası maaşlar 2021 yılına kadar azalmış (düşük şiddete) sonrasında yüksek şiddette artış göstermiş "
   ]
  },
  {
   "cell_type": "code",
   "execution_count": 37,
   "id": "e4cf361f-0523-46f7-ad0c-96d9b2144091",
   "metadata": {},
   "outputs": [],
   "source": [
    "#buraya kadar beklenmeyen ilginç bir olay yok "
   ]
  },
  {
   "cell_type": "code",
   "execution_count": 38,
   "id": "d563d90f-4940-40fe-b8da-94970025c6ee",
   "metadata": {},
   "outputs": [
    {
     "data": {
      "image/png": "[encoded data removed]",
      "text/plain": [
       "<Figure size 636.986x500 with 1 Axes>"
      ]
     },
     "metadata": {},
     "output_type": "display_data"
    }
   ],
   "source": [
    "sns.catplot(y = \"salary_in_usd\", x = \"work_year\", hue = \"employment_type\" , kind = \"bar\", data = df);"
   ]
  },
  {
   "cell_type": "code",
   "execution_count": 39,
   "id": "fdb5ad70-8a77-4f7c-a419-955b9ee0101a",
   "metadata": {},
   "outputs": [
    {
     "data": {
      "image/png": "[encoded data removed]",
      "text/plain": [
       "<Figure size 600.361x500 with 1 Axes>"
      ]
     },
     "metadata": {},
     "output_type": "display_data"
    }
   ],
   "source": [
    "sns.catplot(y = \"salary_in_usd\", x = \"work_year\", hue = \"remote_ratio\" , kind = \"bar\", data = df);"
   ]
  },
  {
   "cell_type": "code",
   "execution_count": 40,
   "id": "28d036af-a6a7-4595-85eb-960185b14e20",
   "metadata": {},
   "outputs": [],
   "source": [
    "#2020 yılında full time ve hibrid birbirine yaklaşmış ancak diğer yıllarda bu fark hibridin lehine açılmış"
   ]
  },
  {
   "cell_type": "code",
   "execution_count": 41,
   "id": "eda69069-606e-49b2-84d5-6e2fece18545",
   "metadata": {},
   "outputs": [],
   "source": [
    "#2020 yılında en fazla kazandıran pandemi sonrasına rağmen Full Time olmuş "
   ]
  },
  {
   "cell_type": "code",
   "execution_count": 42,
   "id": "3a226651-a17d-4b98-8271-5dcf4fc4a156",
   "metadata": {},
   "outputs": [],
   "source": [
    "#2021 yılında sözleşmeli de patlama yaşanmış "
   ]
  },
  {
   "cell_type": "code",
   "execution_count": 43,
   "id": "cb21f7b3-8920-4107-881f-2dc19ce6e420",
   "metadata": {},
   "outputs": [],
   "source": [
    "#2022 yılında full time eski yerini almış "
   ]
  },
  {
   "cell_type": "code",
   "execution_count": 44,
   "id": "32083a6d-b6df-4c17-a61d-c1a69e588738",
   "metadata": {},
   "outputs": [],
   "source": [
    "#2023 yılında FL tahtını koruyor ama max maasşta Sözleşmeli öne geçmiş "
   ]
  },
  {
   "cell_type": "code",
   "execution_count": 45,
   "id": "a512696d-e3cc-46fb-ae10-eeefdf703c26",
   "metadata": {},
   "outputs": [
    {
     "data": {
      "text/html": [
       "<div>\n",
       "<style scoped>\n",
       "    .dataframe tbody tr th:only-of-type {\n",
       "        vertical-align: middle;\n",
       "    }\n",
       "\n",
       "    .dataframe tbody tr th {\n",
       "        vertical-align: top;\n",
       "    }\n",
       "\n",
       "    .dataframe thead th {\n",
       "        text-align: right;\n",
       "    }\n",
       "</style>\n",
       "<table border=\"1\" class=\"dataframe\">\n",
       "  <thead>\n",
       "    <tr style=\"text-align: right;\">\n",
       "      <th></th>\n",
       "      <th>work_year</th>\n",
       "      <th>experience_level</th>\n",
       "      <th>employment_type</th>\n",
       "      <th>job_title</th>\n",
       "      <th>salary</th>\n",
       "      <th>salary_currency</th>\n",
       "      <th>salary_in_usd</th>\n",
       "      <th>employee_residence</th>\n",
       "      <th>remote_ratio</th>\n",
       "      <th>company_location</th>\n",
       "      <th>company_size</th>\n",
       "    </tr>\n",
       "  </thead>\n",
       "  <tbody>\n",
       "    <tr>\n",
       "      <th>0</th>\n",
       "      <td>2023</td>\n",
       "      <td>EN</td>\n",
       "      <td>FT</td>\n",
       "      <td>Data Scientist</td>\n",
       "      <td>100000</td>\n",
       "      <td>USD</td>\n",
       "      <td>100000</td>\n",
       "      <td>US</td>\n",
       "      <td>100</td>\n",
       "      <td>US</td>\n",
       "      <td>M</td>\n",
       "    </tr>\n",
       "    <tr>\n",
       "      <th>1</th>\n",
       "      <td>2023</td>\n",
       "      <td>MI</td>\n",
       "      <td>FT</td>\n",
       "      <td>Machine Learning Engineer</td>\n",
       "      <td>45000</td>\n",
       "      <td>EUR</td>\n",
       "      <td>48585</td>\n",
       "      <td>IT</td>\n",
       "      <td>100</td>\n",
       "      <td>GB</td>\n",
       "      <td>M</td>\n",
       "    </tr>\n",
       "    <tr>\n",
       "      <th>2</th>\n",
       "      <td>2023</td>\n",
       "      <td>MI</td>\n",
       "      <td>FT</td>\n",
       "      <td>Data Analyst</td>\n",
       "      <td>142000</td>\n",
       "      <td>USD</td>\n",
       "      <td>142000</td>\n",
       "      <td>US</td>\n",
       "      <td>0</td>\n",
       "      <td>US</td>\n",
       "      <td>M</td>\n",
       "    </tr>\n",
       "    <tr>\n",
       "      <th>3</th>\n",
       "      <td>2023</td>\n",
       "      <td>MI</td>\n",
       "      <td>FT</td>\n",
       "      <td>Data Analyst</td>\n",
       "      <td>128000</td>\n",
       "      <td>USD</td>\n",
       "      <td>128000</td>\n",
       "      <td>US</td>\n",
       "      <td>0</td>\n",
       "      <td>US</td>\n",
       "      <td>M</td>\n",
       "    </tr>\n",
       "    <tr>\n",
       "      <th>4</th>\n",
       "      <td>2023</td>\n",
       "      <td>SE</td>\n",
       "      <td>FT</td>\n",
       "      <td>ETL Developer</td>\n",
       "      <td>99500</td>\n",
       "      <td>USD</td>\n",
       "      <td>99500</td>\n",
       "      <td>US</td>\n",
       "      <td>0</td>\n",
       "      <td>US</td>\n",
       "      <td>M</td>\n",
       "    </tr>\n",
       "  </tbody>\n",
       "</table>\n",
       "</div>"
      ],
      "text/plain": [
       "   work_year experience_level employment_type                  job_title  \\\n",
       "0       2023               EN              FT             Data Scientist   \n",
       "1       2023               MI              FT  Machine Learning Engineer   \n",
       "2       2023               MI              FT               Data Analyst   \n",
       "3       2023               MI              FT               Data Analyst   \n",
       "4       2023               SE              FT              ETL Developer   \n",
       "\n",
       "   salary salary_currency  salary_in_usd employee_residence  remote_ratio  \\\n",
       "0  100000             USD         100000                 US           100   \n",
       "1   45000             EUR          48585                 IT           100   \n",
       "2  142000             USD         142000                 US             0   \n",
       "3  128000             USD         128000                 US             0   \n",
       "4   99500             USD          99500                 US             0   \n",
       "\n",
       "  company_location company_size  \n",
       "0               US            M  \n",
       "1               GB            M  \n",
       "2               US            M  \n",
       "3               US            M  \n",
       "4               US            M  "
      ]
     },
     "execution_count": 45,
     "metadata": {},
     "output_type": "execute_result"
    }
   ],
   "source": [
    "df.head() #hatırlatma adıa ara ara çağırdım"
   ]
  },
  {
   "cell_type": "code",
   "execution_count": 46,
   "id": "66cb50ea-7c98-4927-b441-6b282988cc42",
   "metadata": {},
   "outputs": [
    {
     "data": {
      "image/png": "[encoded data removed]",
      "text/plain": [
       "<Figure size 585.5x500 with 1 Axes>"
      ]
     },
     "metadata": {},
     "output_type": "display_data"
    }
   ],
   "source": [
    "sns.catplot(y = \"salary_in_usd\", x = \"remote_ratio\", hue = \"work_year\" , kind = \"point\", data = df);"
   ]
  },
  {
   "cell_type": "code",
   "execution_count": 47,
   "id": "e5a09407-a7d6-4ef2-82e7-e6a844c9ec3e",
   "metadata": {},
   "outputs": [
    {
     "data": {
      "image/png": "[encoded data removed]",
      "text/plain": [
       "<Figure size 585.5x500 with 1 Axes>"
      ]
     },
     "metadata": {},
     "output_type": "display_data"
    }
   ],
   "source": [
    "sns.catplot(y = \"salary_in_usd\", x = \"remote_ratio\", hue = \"work_year\" , kind = \"violin\", data = df);"
   ]
  },
  {
   "cell_type": "code",
   "execution_count": 48,
   "id": "38eca31b-a450-4c4c-8910-26de2f9c6465",
   "metadata": {},
   "outputs": [],
   "source": [
    "#en az maaşı hibrid çalışanların aldığını görüyoruz"
   ]
  },
  {
   "cell_type": "code",
   "execution_count": 49,
   "id": "aa67f4b5-80f6-44d2-9a31-241b4cf364e2",
   "metadata": {},
   "outputs": [],
   "source": [
    "#diğer değişkenlerin sınıf sayısıı fazla olduğu için direk korelasyon analizine geçiyorum."
   ]
  },
  {
   "cell_type": "code",
   "execution_count": 50,
   "id": "ae51a4ff-61ad-451b-9832-65b6993ce4df",
   "metadata": {},
   "outputs": [
    {
     "name": "stderr",
     "output_type": "stream",
     "text": [
      "C:\\Users\\onury\\AppData\\Local\\Temp\\ipykernel_9944\\1134722465.py:1: FutureWarning: The default value of numeric_only in DataFrame.corr is deprecated. In a future version, it will default to False. Select only valid columns or specify the value of numeric_only to silence this warning.\n",
      "  df.corr()\n"
     ]
    },
    {
     "data": {
      "text/html": [
       "<div>\n",
       "<style scoped>\n",
       "    .dataframe tbody tr th:only-of-type {\n",
       "        vertical-align: middle;\n",
       "    }\n",
       "\n",
       "    .dataframe tbody tr th {\n",
       "        vertical-align: top;\n",
       "    }\n",
       "\n",
       "    .dataframe thead th {\n",
       "        text-align: right;\n",
       "    }\n",
       "</style>\n",
       "<table border=\"1\" class=\"dataframe\">\n",
       "  <thead>\n",
       "    <tr style=\"text-align: right;\">\n",
       "      <th></th>\n",
       "      <th>work_year</th>\n",
       "      <th>salary</th>\n",
       "      <th>salary_in_usd</th>\n",
       "      <th>remote_ratio</th>\n",
       "    </tr>\n",
       "  </thead>\n",
       "  <tbody>\n",
       "    <tr>\n",
       "      <th>work_year</th>\n",
       "      <td>1.000000</td>\n",
       "      <td>-0.089591</td>\n",
       "      <td>0.201074</td>\n",
       "      <td>-0.201052</td>\n",
       "    </tr>\n",
       "    <tr>\n",
       "      <th>salary</th>\n",
       "      <td>-0.089591</td>\n",
       "      <td>1.000000</td>\n",
       "      <td>0.031470</td>\n",
       "      <td>0.021540</td>\n",
       "    </tr>\n",
       "    <tr>\n",
       "      <th>salary_in_usd</th>\n",
       "      <td>0.201074</td>\n",
       "      <td>0.031470</td>\n",
       "      <td>1.000000</td>\n",
       "      <td>-0.095221</td>\n",
       "    </tr>\n",
       "    <tr>\n",
       "      <th>remote_ratio</th>\n",
       "      <td>-0.201052</td>\n",
       "      <td>0.021540</td>\n",
       "      <td>-0.095221</td>\n",
       "      <td>1.000000</td>\n",
       "    </tr>\n",
       "  </tbody>\n",
       "</table>\n",
       "</div>"
      ],
      "text/plain": [
       "               work_year    salary  salary_in_usd  remote_ratio\n",
       "work_year       1.000000 -0.089591       0.201074     -0.201052\n",
       "salary         -0.089591  1.000000       0.031470      0.021540\n",
       "salary_in_usd   0.201074  0.031470       1.000000     -0.095221\n",
       "remote_ratio   -0.201052  0.021540      -0.095221      1.000000"
      ]
     },
     "execution_count": 50,
     "metadata": {},
     "output_type": "execute_result"
    }
   ],
   "source": [
    "df.corr()"
   ]
  },
  {
   "cell_type": "code",
   "execution_count": 51,
   "id": "274d58c5-dc00-442b-9a4f-3ddf091db935",
   "metadata": {},
   "outputs": [],
   "source": [
    "# work_year'ın salary_in_usd ve remote_ratio ile arasında düşük bir korelasyon var diğer ilişkiler incelenmeye değer gibi durmuyor"
   ]
  },
  {
   "cell_type": "markdown",
   "id": "ae287b00-dacd-4594-aaf3-7f9c51871ffb",
   "metadata": {},
   "source": [
    "### Veri Standartlaştırılması"
   ]
  },
  {
   "cell_type": "code",
   "execution_count": 52,
   "id": "d1a5b798-fdea-41d8-8d45-5cf9838cd2aa",
   "metadata": {},
   "outputs": [],
   "source": [
    "# Veri Setini Makine Öğrenmesi Algoritmalarının Kabul Edeceği Hale Getirmek İçin Kategorik Değişkenleri Sayısallaştırıyoruz. "
   ]
  },
  {
   "cell_type": "code",
   "execution_count": 53,
   "id": "cae70457-5474-4007-a8f2-d8bca295ea33",
   "metadata": {},
   "outputs": [
    {
     "name": "stdout",
     "output_type": "stream",
     "text": [
      "<class 'pandas.core.frame.DataFrame'>\n",
      "RangeIndex: 7366 entries, 0 to 7365\n",
      "Data columns (total 11 columns):\n",
      " #   Column              Non-Null Count  Dtype \n",
      "---  ------              --------------  ----- \n",
      " 0   work_year           7366 non-null   int64 \n",
      " 1   experience_level    7366 non-null   object\n",
      " 2   employment_type     7366 non-null   object\n",
      " 3   job_title           7366 non-null   object\n",
      " 4   salary              7366 non-null   int64 \n",
      " 5   salary_currency     7366 non-null   object\n",
      " 6   salary_in_usd       7366 non-null   int64 \n",
      " 7   employee_residence  7366 non-null   object\n",
      " 8   remote_ratio        7366 non-null   int64 \n",
      " 9   company_location    7366 non-null   object\n",
      " 10  company_size        7366 non-null   object\n",
      "dtypes: int64(4), object(7)\n",
      "memory usage: 633.1+ KB\n"
     ]
    }
   ],
   "source": [
    "df.info()"
   ]
  },
  {
   "cell_type": "code",
   "execution_count": 54,
   "id": "3ce7f69f-0289-495d-b514-66f9ebf5b339",
   "metadata": {},
   "outputs": [],
   "source": [
    "from sklearn.preprocessing import LabelEncoder\n",
    "\n",
    "lbe =  LabelEncoder()"
   ]
  },
  {
   "cell_type": "code",
   "execution_count": 55,
   "id": "b5575d01-48fb-41ef-95c8-cf2b85a7f77c",
   "metadata": {},
   "outputs": [],
   "source": [
    "df[\"experience_level\"] = lbe.fit_transform(df[\"experience_level\"])"
   ]
  },
  {
   "cell_type": "code",
   "execution_count": 56,
   "id": "c1845f2c-fe55-414d-b526-fa8151dfda70",
   "metadata": {},
   "outputs": [],
   "source": [
    "df[\"employment_type\"] = lbe.fit_transform(df[\"employment_type\"])"
   ]
  },
  {
   "cell_type": "code",
   "execution_count": 57,
   "id": "f919b393-9358-49ee-a40d-2674df15fbac",
   "metadata": {},
   "outputs": [],
   "source": [
    "df[\"job_title\"] = lbe.fit_transform(df[\"job_title\"])"
   ]
  },
  {
   "cell_type": "code",
   "execution_count": 58,
   "id": "15a74d84-fe27-4cab-baf7-5bf5beac377b",
   "metadata": {},
   "outputs": [],
   "source": [
    "df[\"salary_currency\"] = lbe.fit_transform(df[\"salary_currency\"])"
   ]
  },
  {
   "cell_type": "code",
   "execution_count": 59,
   "id": "d07a0b21-51c0-4464-9489-1ec04bddc39b",
   "metadata": {},
   "outputs": [],
   "source": [
    "df[\"employee_residence\"] = lbe.fit_transform(df[\"employee_residence\"])"
   ]
  },
  {
   "cell_type": "code",
   "execution_count": 60,
   "id": "1e14c1fb-559b-4108-90d7-255122c93b77",
   "metadata": {},
   "outputs": [],
   "source": [
    "df[\"company_location\"] = lbe.fit_transform(df[\"company_location\"])"
   ]
  },
  {
   "cell_type": "code",
   "execution_count": 61,
   "id": "bfc7dc86-ce60-46bf-8af4-c76789b701ea",
   "metadata": {},
   "outputs": [],
   "source": [
    "df[\"company_size\"] = lbe.fit_transform(df[\"company_size\"])"
   ]
  },
  {
   "cell_type": "code",
   "execution_count": 62,
   "id": "ab3d2abf-b6d1-4b6c-9733-00199b6794ca",
   "metadata": {},
   "outputs": [
    {
     "data": {
      "text/html": [
       "<div>\n",
       "<style scoped>\n",
       "    .dataframe tbody tr th:only-of-type {\n",
       "        vertical-align: middle;\n",
       "    }\n",
       "\n",
       "    .dataframe tbody tr th {\n",
       "        vertical-align: top;\n",
       "    }\n",
       "\n",
       "    .dataframe thead th {\n",
       "        text-align: right;\n",
       "    }\n",
       "</style>\n",
       "<table border=\"1\" class=\"dataframe\">\n",
       "  <thead>\n",
       "    <tr style=\"text-align: right;\">\n",
       "      <th></th>\n",
       "      <th>work_year</th>\n",
       "      <th>experience_level</th>\n",
       "      <th>employment_type</th>\n",
       "      <th>job_title</th>\n",
       "      <th>salary</th>\n",
       "      <th>salary_currency</th>\n",
       "      <th>salary_in_usd</th>\n",
       "      <th>employee_residence</th>\n",
       "      <th>remote_ratio</th>\n",
       "      <th>company_location</th>\n",
       "      <th>company_size</th>\n",
       "    </tr>\n",
       "  </thead>\n",
       "  <tbody>\n",
       "    <tr>\n",
       "      <th>0</th>\n",
       "      <td>2023</td>\n",
       "      <td>0</td>\n",
       "      <td>2</td>\n",
       "      <td>62</td>\n",
       "      <td>100000</td>\n",
       "      <td>20</td>\n",
       "      <td>100000</td>\n",
       "      <td>81</td>\n",
       "      <td>100</td>\n",
       "      <td>71</td>\n",
       "      <td>1</td>\n",
       "    </tr>\n",
       "    <tr>\n",
       "      <th>1</th>\n",
       "      <td>2023</td>\n",
       "      <td>2</td>\n",
       "      <td>2</td>\n",
       "      <td>89</td>\n",
       "      <td>45000</td>\n",
       "      <td>6</td>\n",
       "      <td>48585</td>\n",
       "      <td>45</td>\n",
       "      <td>100</td>\n",
       "      <td>27</td>\n",
       "      <td>1</td>\n",
       "    </tr>\n",
       "    <tr>\n",
       "      <th>2</th>\n",
       "      <td>2023</td>\n",
       "      <td>2</td>\n",
       "      <td>2</td>\n",
       "      <td>33</td>\n",
       "      <td>142000</td>\n",
       "      <td>20</td>\n",
       "      <td>142000</td>\n",
       "      <td>81</td>\n",
       "      <td>0</td>\n",
       "      <td>71</td>\n",
       "      <td>1</td>\n",
       "    </tr>\n",
       "    <tr>\n",
       "      <th>3</th>\n",
       "      <td>2023</td>\n",
       "      <td>2</td>\n",
       "      <td>2</td>\n",
       "      <td>33</td>\n",
       "      <td>128000</td>\n",
       "      <td>20</td>\n",
       "      <td>128000</td>\n",
       "      <td>81</td>\n",
       "      <td>0</td>\n",
       "      <td>71</td>\n",
       "      <td>1</td>\n",
       "    </tr>\n",
       "    <tr>\n",
       "      <th>4</th>\n",
       "      <td>2023</td>\n",
       "      <td>3</td>\n",
       "      <td>2</td>\n",
       "      <td>74</td>\n",
       "      <td>99500</td>\n",
       "      <td>20</td>\n",
       "      <td>99500</td>\n",
       "      <td>81</td>\n",
       "      <td>0</td>\n",
       "      <td>71</td>\n",
       "      <td>1</td>\n",
       "    </tr>\n",
       "  </tbody>\n",
       "</table>\n",
       "</div>"
      ],
      "text/plain": [
       "   work_year  experience_level  employment_type  job_title  salary  \\\n",
       "0       2023                 0                2         62  100000   \n",
       "1       2023                 2                2         89   45000   \n",
       "2       2023                 2                2         33  142000   \n",
       "3       2023                 2                2         33  128000   \n",
       "4       2023                 3                2         74   99500   \n",
       "\n",
       "   salary_currency  salary_in_usd  employee_residence  remote_ratio  \\\n",
       "0               20         100000                  81           100   \n",
       "1                6          48585                  45           100   \n",
       "2               20         142000                  81             0   \n",
       "3               20         128000                  81             0   \n",
       "4               20          99500                  81             0   \n",
       "\n",
       "   company_location  company_size  \n",
       "0                71             1  \n",
       "1                27             1  \n",
       "2                71             1  \n",
       "3                71             1  \n",
       "4                71             1  "
      ]
     },
     "execution_count": 62,
     "metadata": {},
     "output_type": "execute_result"
    }
   ],
   "source": [
    "df.head()"
   ]
  },
  {
   "cell_type": "code",
   "execution_count": null,
   "id": "c278f671-f897-4bc5-b97a-5f1ffa935d98",
   "metadata": {},
   "outputs": [],
   "source": []
  }
 ],
 "metadata": {
  "kernelspec": {
   "display_name": "Python 3 (ipykernel)",
   "language": "python",
   "name": "python3"
  },
  "language_info": {
   "codemirror_mode": {
    "name": "ipython",
    "version": 3
   },
   "file_extension": ".py",
   "mimetype": "text/x-python",
   "name": "python",
   "nbconvert_exporter": "python",
   "pygments_lexer": "ipython3",
   "version": "3.11.3"
  }
 },
 "nbformat": 4,
 "nbformat_minor": 5
}
